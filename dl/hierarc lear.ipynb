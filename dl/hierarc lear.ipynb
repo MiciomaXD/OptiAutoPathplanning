{
 "cells": [
  {
   "cell_type": "code",
   "execution_count": 85,
   "metadata": {},
   "outputs": [],
   "source": [
    "from sklearn.preprocessing import StandardScaler\n",
    "import pandas as pd\n",
    "import torch"
   ]
  },
  {
   "cell_type": "code",
   "execution_count": 86,
   "metadata": {},
   "outputs": [],
   "source": [
    "import os\n",
    "\n",
    "def encode_labels(labels: list):\n",
    "    one_hot_encoder = {}\n",
    "    for i in range(len(labels)):\n",
    "        l = [0.]*len(labels)\n",
    "        l[i] = 1.\n",
    "        one_hot_encoder[labels[i]] = l\n",
    "    return one_hot_encoder\n",
    "\n",
    "def check_exp_fld(p):\n",
    "    l=os.listdir(p)\n",
    "    l=[x for x in l if \"exp\" in x]\n",
    "    if len(l)==0:\n",
    "        return os.path.join(p, \"exp0\")\n",
    "        \n",
    "    l.sort()\n",
    "    return os.path.join(p, \"exp\" + str(int(l[len(l)-1].replace(\"exp\", \"\"))+1))"
   ]
  },
  {
   "cell_type": "code",
   "execution_count": 87,
   "metadata": {},
   "outputs": [],
   "source": [
    "meta_metrics= pd.read_pickle(\"df_train.pkl\")"
   ]
  },
  {
   "cell_type": "code",
   "execution_count": 88,
   "metadata": {},
   "outputs": [
    {
     "name": "stdout",
     "output_type": "stream",
     "text": [
      "<class 'pandas.core.frame.DataFrame'>\n",
      "RangeIndex: 4500 entries, 0 to 4499\n",
      "Data columns (total 3 columns):\n",
      " #   Column       Non-Null Count  Dtype \n",
      "---  ------       --------------  ----- \n",
      " 0   graph        4500 non-null   object\n",
      " 1   label_time   4500 non-null   object\n",
      " 2   label_space  4500 non-null   object\n",
      "dtypes: object(3)\n",
      "memory usage: 105.6+ KB\n"
     ]
    }
   ],
   "source": [
    "meta_metrics.info()"
   ]
  },
  {
   "cell_type": "code",
   "execution_count": 89,
   "metadata": {},
   "outputs": [
    {
     "data": {
      "text/html": [
       "<div>\n",
       "<style scoped>\n",
       "    .dataframe tbody tr th:only-of-type {\n",
       "        vertical-align: middle;\n",
       "    }\n",
       "\n",
       "    .dataframe tbody tr th {\n",
       "        vertical-align: top;\n",
       "    }\n",
       "\n",
       "    .dataframe thead th {\n",
       "        text-align: right;\n",
       "    }\n",
       "</style>\n",
       "<table border=\"1\" class=\"dataframe\">\n",
       "  <thead>\n",
       "    <tr style=\"text-align: right;\">\n",
       "      <th></th>\n",
       "      <th>graph</th>\n",
       "      <th>label_time</th>\n",
       "      <th>label_space</th>\n",
       "    </tr>\n",
       "  </thead>\n",
       "  <tbody>\n",
       "    <tr>\n",
       "      <th>0</th>\n",
       "      <td>(0, 1, 2, 3, 4, 5, 6, 7, 8, 9, 10, 11, 12, 13,...</td>\n",
       "      <td>dfs</td>\n",
       "      <td>dfs</td>\n",
       "    </tr>\n",
       "    <tr>\n",
       "      <th>1</th>\n",
       "      <td>(0, 1, 2, 3, 4, 5, 6, 7, 8, 9, 10, 11, 12, 13,...</td>\n",
       "      <td>best_first_search</td>\n",
       "      <td>best_first_search</td>\n",
       "    </tr>\n",
       "    <tr>\n",
       "      <th>2</th>\n",
       "      <td>(0, 1, 2, 3, 4, 5, 6, 7, 8, 9, 10, 11, 12, 13,...</td>\n",
       "      <td>best_first_search</td>\n",
       "      <td>best_first_search</td>\n",
       "    </tr>\n",
       "    <tr>\n",
       "      <th>3</th>\n",
       "      <td>(0, 1, 2, 3, 4, 5, 6, 7, 8, 9, 10, 11, 12, 13,...</td>\n",
       "      <td>best_first_search</td>\n",
       "      <td>astar</td>\n",
       "    </tr>\n",
       "    <tr>\n",
       "      <th>4</th>\n",
       "      <td>(0, 1, 2, 3, 4, 5, 6, 7, 8, 9, 10, 11, 12, 13,...</td>\n",
       "      <td>bidirectional_search</td>\n",
       "      <td>bidirectional_search</td>\n",
       "    </tr>\n",
       "  </tbody>\n",
       "</table>\n",
       "</div>"
      ],
      "text/plain": [
       "                                               graph            label_time  \\\n",
       "0  (0, 1, 2, 3, 4, 5, 6, 7, 8, 9, 10, 11, 12, 13,...                   dfs   \n",
       "1  (0, 1, 2, 3, 4, 5, 6, 7, 8, 9, 10, 11, 12, 13,...     best_first_search   \n",
       "2  (0, 1, 2, 3, 4, 5, 6, 7, 8, 9, 10, 11, 12, 13,...     best_first_search   \n",
       "3  (0, 1, 2, 3, 4, 5, 6, 7, 8, 9, 10, 11, 12, 13,...     best_first_search   \n",
       "4  (0, 1, 2, 3, 4, 5, 6, 7, 8, 9, 10, 11, 12, 13,...  bidirectional_search   \n",
       "\n",
       "            label_space  \n",
       "0                   dfs  \n",
       "1     best_first_search  \n",
       "2     best_first_search  \n",
       "3                 astar  \n",
       "4  bidirectional_search  "
      ]
     },
     "execution_count": 89,
     "metadata": {},
     "output_type": "execute_result"
    }
   ],
   "source": [
    "meta_metrics.head()"
   ]
  },
  {
   "cell_type": "code",
   "execution_count": 90,
   "metadata": {},
   "outputs": [
    {
     "data": {
      "text/plain": [
       "([0, 1, 2, 3, 4, 5, 6],\n",
       " [Text(0, 0, 'dfs'),\n",
       "  Text(1, 0, 'best_first_search'),\n",
       "  Text(2, 0, 'bidirectional_search'),\n",
       "  Text(3, 0, 'bfs'),\n",
       "  Text(4, 0, 'dijkstra'),\n",
       "  Text(5, 0, 'randomized_shortest_path'),\n",
       "  Text(6, 0, 'astar')])"
      ]
     },
     "execution_count": 90,
     "metadata": {},
     "output_type": "execute_result"
    },
    {
     "data": {
      "image/png": "[encoded data removed]",
      "text/plain": [
       "<Figure size 640x480 with 1 Axes>"
      ]
     },
     "metadata": {},
     "output_type": "display_data"
    }
   ],
   "source": [
    "import matplotlib.pyplot as plt\n",
    "plt.hist(meta_metrics.loc[:,\"label_time\"])\n",
    "plt.xticks(rotation=90)"
   ]
  },
  {
   "cell_type": "markdown",
   "metadata": {},
   "source": [
    "# Metrics calc"
   ]
  },
  {
   "cell_type": "code",
   "execution_count": 91,
   "metadata": {},
   "outputs": [],
   "source": [
    "import statistics\n",
    "\n",
    "\n",
    "def calculate_graph_size_features(graph):\n",
    "    num_nodes = len(graph.nodes)\n",
    "    num_edges = len(graph.edges)\n",
    "\n",
    "    # Check for division by zero\n",
    "    if num_edges != 0 and num_nodes != 0:\n",
    "        return {\n",
    "            'nodes': num_nodes,\n",
    "            'edges': num_edges,\n",
    "            'ratio_n_m': num_nodes / num_edges,\n",
    "            'ratio_m_n': num_edges / num_nodes,\n",
    "            'density': 2 * num_edges / (num_nodes * (num_nodes - 1))\n",
    "        }\n",
    "    else:\n",
    "        # Handle the case where either num_edges or num_nodes is zero\n",
    "        return {\n",
    "            'nodes': num_nodes,\n",
    "            'edges': num_edges,\n",
    "            'ratio_n_m': 0,\n",
    "            'ratio_m_n': 0,\n",
    "            'density': 0\n",
    "        }\n",
    "\n",
    "def calculate_node_degree_stats(graph):\n",
    "    degrees = list(dict(graph.degree()).values())\n",
    "    degrees_np = np.array(degrees)\n",
    "\n",
    "    # Check for diversity in degrees\n",
    "    if len(set(degrees_np)) > 1:\n",
    "        unique_degrees, counts = np.unique(degrees_np, return_counts=True)\n",
    "\n",
    "        entropy_term = np.fromiter((p * np.log2(p) for p in (np.count_nonzero(degrees_np == x) / len(degrees_np) for x in set(degrees_np))), dtype=float)\n",
    "\n",
    "        return {\n",
    "            'min_degree': np.min(degrees_np),\n",
    "            'max_degree': np.max(degrees_np),\n",
    "            'mean_degree': np.mean(degrees_np),\n",
    "            'median_degree': np.median(degrees_np),\n",
    "            'q0.25_degree': np.percentile(degrees_np, 25),\n",
    "            'q0.75_degree': np.percentile(degrees_np, 75),\n",
    "            'variation_coefficient_degree': np.std(degrees_np) / np.mean(degrees_np),\n",
    "            'entropy_degree': -np.sum(entropy_term)\n",
    "        }\n",
    "    else:\n",
    "        # Handle the case where there is no diversity in degrees\n",
    "        return {\n",
    "            'min_degree': 0,\n",
    "            'max_degree': 0,\n",
    "            'mean_degree': 0,\n",
    "            'median_degree': 0,\n",
    "            'q0.25_degree': 0,\n",
    "            'q0.75_degree': 0,\n",
    "            'variation_coefficient_degree': 0,\n",
    "            'entropy_degree': 0\n",
    "        }\n",
    "\n",
    "\n",
    "def calculate_maximal_clique_stats(graph, num_nodes):\n",
    "    cliques = list(map(len, nx.enumerate_all_cliques(graph)))\n",
    "\n",
    "    # Check for diversity in cliques\n",
    "    if len(set(cliques)) > 1:\n",
    "        return {\n",
    "            'normalized_min_clique_size': min(cliques) / num_nodes,\n",
    "            'normalized_max_clique_size': max(cliques) / num_nodes,\n",
    "            'normalized_median_clique_size': statistics.median(cliques) / num_nodes,\n",
    "            'normalized_q0.25_clique_size': statistics.quantiles(cliques, n=4)[0] / num_nodes,\n",
    "            'normalized_q0.75_clique_size': statistics.quantiles(cliques, n=4)[2] / num_nodes,\n",
    "            'normalized_variation_coefficient_clique_size': statistics.stdev(cliques) / statistics.mean(cliques),\n",
    "            'normalized_entropy_clique_size': -sum(p * math.log2(p) for p in (cliques.count(x) / len(cliques) for x in set(cliques))) / num_nodes\n",
    "        }\n",
    "    else:\n",
    "        # Handle the case where there is no diversity in cliques\n",
    "        return {\n",
    "            'normalized_min_clique_size': 0,\n",
    "            'normalized_max_clique_size': 0,\n",
    "            'normalized_median_clique_size': 0,\n",
    "            'normalized_q0.25_clique_size': 0,\n",
    "            'normalized_q0.75_clique_size': 0,\n",
    "            'normalized_variation_coefficient_clique_size': 0,\n",
    "            'normalized_entropy_clique_size': 0\n",
    "        }\n"
   ]
  },
  {
   "cell_type": "code",
   "execution_count": 92,
   "metadata": {},
   "outputs": [],
   "source": [
    "import pandas as pd\n",
    "\n",
    "# Load the train set\n",
    "df_train = pd.read_pickle(\"df_train.pkl\")\n",
    "\n",
    "# Load the test set\n",
    "df_test = pd.read_pickle(\"df_test.pkl\")\n",
    "\n",
    "# Define a function to extract the matrix and target from a DataFrame\n",
    "def extract_matrix_and_target(df):\n",
    "    matrix_column = \"graph\"\n",
    "    target_time_column = \"label_time\"\n",
    "    target_space_column = \"label_space\"\n",
    "    \n",
    "    matrices = df[matrix_column].tolist()\n",
    "    targets_time = df[target_time_column].tolist()\n",
    "    targets_space = df[target_space_column].tolist()\n",
    "\n",
    "    return matrices, targets_time, targets_space\n",
    "\n",
    "# Extract matrix and target for train set\n",
    "train_graphs, train_targets_time, train_targets_space = extract_matrix_and_target(df_train)\n",
    "\n",
    "# Extract matrix and target for test set\n",
    "test_graphs, test_targets_time, test_targets_space = extract_matrix_and_target(df_test)\n",
    "\n",
    "import networkx as nx\n",
    "import numpy as np\n",
    "import statistics\n",
    "import math\n",
    "\n",
    "# Loop through each graph in the train set\n",
    "train_graph_metrics = []\n",
    "for graph, t_t, t_s in zip(train_graphs, train_targets_time, train_targets_space):\n",
    "    size_features = calculate_graph_size_features(graph)\n",
    "    degree_stats = calculate_node_degree_stats(graph)\n",
    "    clique_stats = calculate_maximal_clique_stats(graph, len(graph.nodes()))\n",
    "\n",
    "    # Combine the metrics into one dictionary\n",
    "    graph_metrics = {**size_features, **degree_stats, **clique_stats, 'target_time': t_t, 'target_space': t_s}\n",
    "    \n",
    "    train_graph_metrics.append(graph_metrics)\n",
    "\n",
    "# Loop through each graph in the test set\n",
    "test_graph_metrics = []\n",
    "for graph, t_t, t_s in zip(test_graphs, test_targets_time, test_targets_space):\n",
    "    graph_array = nx.to_numpy_array(graph)\n",
    "    size_features = calculate_graph_size_features(graph)\n",
    "    degree_stats = calculate_node_degree_stats(graph)\n",
    "    clique_stats = calculate_maximal_clique_stats(graph, graph_array.shape[0])  # Use graph_array.shape[0] for the number of nodes\n",
    "    \n",
    "    # Combine the metrics into one dictionary\n",
    "    graph_metrics = {**size_features, **degree_stats, **clique_stats, 'target_time': t_t, 'target_space': t_s}\n",
    "    \n",
    "    test_graph_metrics.append(graph_metrics)\n",
    "\n",
    "# Convert train_graph_metrics and test_graph_metrics to DataFrames\n",
    "train_df = pd.DataFrame(train_graph_metrics)\n",
    "test_df = pd.DataFrame(test_graph_metrics)\n",
    "\n",
    "train_df.to_pickle(\"df_train_W_meta_metrics.pkl\")\n",
    "test_df.to_pickle(\"df_test_W_meta_metrics.pkl\")\n"
   ]
  },
  {
   "cell_type": "markdown",
   "metadata": {},
   "source": [
    "---\n",
    "\n",
    "# Neural first level"
   ]
  },
  {
   "cell_type": "code",
   "execution_count": 93,
   "metadata": {},
   "outputs": [],
   "source": [
    "meta_metrics= pd.read_pickle(\"df_train_W_meta_metrics.pkl\")"
   ]
  },
  {
   "cell_type": "code",
   "execution_count": 94,
   "metadata": {},
   "outputs": [
    {
     "name": "stdout",
     "output_type": "stream",
     "text": [
      "<class 'pandas.core.frame.DataFrame'>\n",
      "RangeIndex: 4500 entries, 0 to 4499\n",
      "Data columns (total 22 columns):\n",
      " #   Column                                        Non-Null Count  Dtype  \n",
      "---  ------                                        --------------  -----  \n",
      " 0   nodes                                         4500 non-null   int64  \n",
      " 1   edges                                         4500 non-null   int64  \n",
      " 2   ratio_n_m                                     4500 non-null   float64\n",
      " 3   ratio_m_n                                     4500 non-null   float64\n",
      " 4   density                                       4500 non-null   float64\n",
      " 5   min_degree                                    4500 non-null   int64  \n",
      " 6   max_degree                                    4500 non-null   int64  \n",
      " 7   mean_degree                                   4500 non-null   float64\n",
      " 8   median_degree                                 4500 non-null   float64\n",
      " 9   q0.25_degree                                  4500 non-null   float64\n",
      " 10  q0.75_degree                                  4500 non-null   float64\n",
      " 11  variation_coefficient_degree                  4500 non-null   float64\n",
      " 12  entropy_degree                                4500 non-null   float64\n",
      " 13  normalized_min_clique_size                    4500 non-null   float64\n",
      " 14  normalized_max_clique_size                    4500 non-null   float64\n",
      " 15  normalized_median_clique_size                 4500 non-null   float64\n",
      " 16  normalized_q0.25_clique_size                  4500 non-null   float64\n",
      " 17  normalized_q0.75_clique_size                  4500 non-null   float64\n",
      " 18  normalized_variation_coefficient_clique_size  4500 non-null   float64\n",
      " 19  normalized_entropy_clique_size                4500 non-null   float64\n",
      " 20  target_time                                   4500 non-null   object \n",
      " 21  target_space                                  4500 non-null   object \n",
      "dtypes: float64(16), int64(4), object(2)\n",
      "memory usage: 773.6+ KB\n"
     ]
    }
   ],
   "source": [
    "meta_metrics.info()"
   ]
  },
  {
   "cell_type": "code",
   "execution_count": 95,
   "metadata": {},
   "outputs": [
    {
     "name": "stdout",
     "output_type": "stream",
     "text": [
      "4500\n",
      "4500\n"
     ]
    }
   ],
   "source": [
    "print(len(meta_metrics))\n",
    "meta_metrics.dropna(inplace=True)\n",
    "print(len(meta_metrics))"
   ]
  },
  {
   "cell_type": "code",
   "execution_count": 96,
   "metadata": {},
   "outputs": [],
   "source": [
    "features_numeric = list(range(20))\n",
    "gt = [20]"
   ]
  },
  {
   "cell_type": "code",
   "execution_count": 97,
   "metadata": {},
   "outputs": [
    {
     "data": {
      "text/html": [
       "<div>\n",
       "<style scoped>\n",
       "    .dataframe tbody tr th:only-of-type {\n",
       "        vertical-align: middle;\n",
       "    }\n",
       "\n",
       "    .dataframe tbody tr th {\n",
       "        vertical-align: top;\n",
       "    }\n",
       "\n",
       "    .dataframe thead th {\n",
       "        text-align: right;\n",
       "    }\n",
       "</style>\n",
       "<table border=\"1\" class=\"dataframe\">\n",
       "  <thead>\n",
       "    <tr style=\"text-align: right;\">\n",
       "      <th></th>\n",
       "      <th>nodes</th>\n",
       "      <th>edges</th>\n",
       "      <th>ratio_n_m</th>\n",
       "      <th>ratio_m_n</th>\n",
       "      <th>density</th>\n",
       "      <th>min_degree</th>\n",
       "      <th>max_degree</th>\n",
       "      <th>mean_degree</th>\n",
       "      <th>median_degree</th>\n",
       "      <th>q0.25_degree</th>\n",
       "      <th>...</th>\n",
       "      <th>entropy_degree</th>\n",
       "      <th>normalized_min_clique_size</th>\n",
       "      <th>normalized_max_clique_size</th>\n",
       "      <th>normalized_median_clique_size</th>\n",
       "      <th>normalized_q0.25_clique_size</th>\n",
       "      <th>normalized_q0.75_clique_size</th>\n",
       "      <th>normalized_variation_coefficient_clique_size</th>\n",
       "      <th>normalized_entropy_clique_size</th>\n",
       "      <th>target_time</th>\n",
       "      <th>target_space</th>\n",
       "    </tr>\n",
       "  </thead>\n",
       "  <tbody>\n",
       "    <tr>\n",
       "      <th>0</th>\n",
       "      <td>19</td>\n",
       "      <td>11</td>\n",
       "      <td>1.727273</td>\n",
       "      <td>0.578947</td>\n",
       "      <td>0.064327</td>\n",
       "      <td>0</td>\n",
       "      <td>3</td>\n",
       "      <td>1.157895</td>\n",
       "      <td>1.0</td>\n",
       "      <td>0.0</td>\n",
       "      <td>...</td>\n",
       "      <td>1.871019</td>\n",
       "      <td>0.052632</td>\n",
       "      <td>0.157895</td>\n",
       "      <td>0.052632</td>\n",
       "      <td>0.052632</td>\n",
       "      <td>0.105263</td>\n",
       "      <td>0.397478</td>\n",
       "      <td>0.059110</td>\n",
       "      <td>dfs</td>\n",
       "      <td>dfs</td>\n",
       "    </tr>\n",
       "    <tr>\n",
       "      <th>1</th>\n",
       "      <td>34</td>\n",
       "      <td>130</td>\n",
       "      <td>0.261538</td>\n",
       "      <td>3.823529</td>\n",
       "      <td>0.231729</td>\n",
       "      <td>3</td>\n",
       "      <td>12</td>\n",
       "      <td>7.647059</td>\n",
       "      <td>7.0</td>\n",
       "      <td>6.0</td>\n",
       "      <td>...</td>\n",
       "      <td>3.051602</td>\n",
       "      <td>0.029412</td>\n",
       "      <td>0.117647</td>\n",
       "      <td>0.058824</td>\n",
       "      <td>0.058824</td>\n",
       "      <td>0.088235</td>\n",
       "      <td>0.324626</td>\n",
       "      <td>0.046827</td>\n",
       "      <td>best_first_search</td>\n",
       "      <td>best_first_search</td>\n",
       "    </tr>\n",
       "    <tr>\n",
       "      <th>2</th>\n",
       "      <td>68</td>\n",
       "      <td>364</td>\n",
       "      <td>0.186813</td>\n",
       "      <td>5.352941</td>\n",
       "      <td>0.159789</td>\n",
       "      <td>3</td>\n",
       "      <td>18</td>\n",
       "      <td>10.705882</td>\n",
       "      <td>11.0</td>\n",
       "      <td>9.0</td>\n",
       "      <td>...</td>\n",
       "      <td>3.374558</td>\n",
       "      <td>0.014706</td>\n",
       "      <td>0.058824</td>\n",
       "      <td>0.029412</td>\n",
       "      <td>0.029412</td>\n",
       "      <td>0.044118</td>\n",
       "      <td>0.301528</td>\n",
       "      <td>0.022069</td>\n",
       "      <td>best_first_search</td>\n",
       "      <td>best_first_search</td>\n",
       "    </tr>\n",
       "    <tr>\n",
       "      <th>3</th>\n",
       "      <td>58</td>\n",
       "      <td>122</td>\n",
       "      <td>0.475410</td>\n",
       "      <td>2.103448</td>\n",
       "      <td>0.073805</td>\n",
       "      <td>1</td>\n",
       "      <td>10</td>\n",
       "      <td>4.206897</td>\n",
       "      <td>4.0</td>\n",
       "      <td>3.0</td>\n",
       "      <td>...</td>\n",
       "      <td>2.907696</td>\n",
       "      <td>0.017241</td>\n",
       "      <td>0.051724</td>\n",
       "      <td>0.034483</td>\n",
       "      <td>0.017241</td>\n",
       "      <td>0.034483</td>\n",
       "      <td>0.319693</td>\n",
       "      <td>0.020953</td>\n",
       "      <td>best_first_search</td>\n",
       "      <td>astar</td>\n",
       "    </tr>\n",
       "    <tr>\n",
       "      <th>4</th>\n",
       "      <td>96</td>\n",
       "      <td>131</td>\n",
       "      <td>0.732824</td>\n",
       "      <td>1.364583</td>\n",
       "      <td>0.028728</td>\n",
       "      <td>0</td>\n",
       "      <td>9</td>\n",
       "      <td>2.729167</td>\n",
       "      <td>2.0</td>\n",
       "      <td>1.0</td>\n",
       "      <td>...</td>\n",
       "      <td>2.686679</td>\n",
       "      <td>0.010417</td>\n",
       "      <td>0.031250</td>\n",
       "      <td>0.020833</td>\n",
       "      <td>0.010417</td>\n",
       "      <td>0.020833</td>\n",
       "      <td>0.330712</td>\n",
       "      <td>0.011580</td>\n",
       "      <td>bidirectional_search</td>\n",
       "      <td>bidirectional_search</td>\n",
       "    </tr>\n",
       "  </tbody>\n",
       "</table>\n",
       "<p>5 rows × 22 columns</p>\n",
       "</div>"
      ],
      "text/plain": [
       "   nodes  edges  ratio_n_m  ratio_m_n   density  min_degree  max_degree  \\\n",
       "0     19     11   1.727273   0.578947  0.064327           0           3   \n",
       "1     34    130   0.261538   3.823529  0.231729           3          12   \n",
       "2     68    364   0.186813   5.352941  0.159789           3          18   \n",
       "3     58    122   0.475410   2.103448  0.073805           1          10   \n",
       "4     96    131   0.732824   1.364583  0.028728           0           9   \n",
       "\n",
       "   mean_degree  median_degree  q0.25_degree  ...  entropy_degree  \\\n",
       "0     1.157895            1.0           0.0  ...        1.871019   \n",
       "1     7.647059            7.0           6.0  ...        3.051602   \n",
       "2    10.705882           11.0           9.0  ...        3.374558   \n",
       "3     4.206897            4.0           3.0  ...        2.907696   \n",
       "4     2.729167            2.0           1.0  ...        2.686679   \n",
       "\n",
       "   normalized_min_clique_size  normalized_max_clique_size  \\\n",
       "0                    0.052632                    0.157895   \n",
       "1                    0.029412                    0.117647   \n",
       "2                    0.014706                    0.058824   \n",
       "3                    0.017241                    0.051724   \n",
       "4                    0.010417                    0.031250   \n",
       "\n",
       "   normalized_median_clique_size  normalized_q0.25_clique_size  \\\n",
       "0                       0.052632                      0.052632   \n",
       "1                       0.058824                      0.058824   \n",
       "2                       0.029412                      0.029412   \n",
       "3                       0.034483                      0.017241   \n",
       "4                       0.020833                      0.010417   \n",
       "\n",
       "   normalized_q0.75_clique_size  normalized_variation_coefficient_clique_size  \\\n",
       "0                      0.105263                                      0.397478   \n",
       "1                      0.088235                                      0.324626   \n",
       "2                      0.044118                                      0.301528   \n",
       "3                      0.034483                                      0.319693   \n",
       "4                      0.020833                                      0.330712   \n",
       "\n",
       "   normalized_entropy_clique_size           target_time          target_space  \n",
       "0                        0.059110                   dfs                   dfs  \n",
       "1                        0.046827     best_first_search     best_first_search  \n",
       "2                        0.022069     best_first_search     best_first_search  \n",
       "3                        0.020953     best_first_search                 astar  \n",
       "4                        0.011580  bidirectional_search  bidirectional_search  \n",
       "\n",
       "[5 rows x 22 columns]"
      ]
     },
     "execution_count": 97,
     "metadata": {},
     "output_type": "execute_result"
    }
   ],
   "source": [
    "meta_metrics.head()"
   ]
  },
  {
   "cell_type": "code",
   "execution_count": 98,
   "metadata": {},
   "outputs": [
    {
     "data": {
      "text/html": [
       "<div>\n",
       "<style scoped>\n",
       "    .dataframe tbody tr th:only-of-type {\n",
       "        vertical-align: middle;\n",
       "    }\n",
       "\n",
       "    .dataframe tbody tr th {\n",
       "        vertical-align: top;\n",
       "    }\n",
       "\n",
       "    .dataframe thead th {\n",
       "        text-align: right;\n",
       "    }\n",
       "</style>\n",
       "<table border=\"1\" class=\"dataframe\">\n",
       "  <thead>\n",
       "    <tr style=\"text-align: right;\">\n",
       "      <th></th>\n",
       "      <th>nodes</th>\n",
       "      <th>edges</th>\n",
       "      <th>ratio_n_m</th>\n",
       "      <th>ratio_m_n</th>\n",
       "      <th>density</th>\n",
       "      <th>min_degree</th>\n",
       "      <th>max_degree</th>\n",
       "      <th>mean_degree</th>\n",
       "      <th>median_degree</th>\n",
       "      <th>q0.25_degree</th>\n",
       "      <th>...</th>\n",
       "      <th>entropy_degree</th>\n",
       "      <th>normalized_min_clique_size</th>\n",
       "      <th>normalized_max_clique_size</th>\n",
       "      <th>normalized_median_clique_size</th>\n",
       "      <th>normalized_q0.25_clique_size</th>\n",
       "      <th>normalized_q0.75_clique_size</th>\n",
       "      <th>normalized_variation_coefficient_clique_size</th>\n",
       "      <th>normalized_entropy_clique_size</th>\n",
       "      <th>target_time</th>\n",
       "      <th>target_space</th>\n",
       "    </tr>\n",
       "  </thead>\n",
       "  <tbody>\n",
       "    <tr>\n",
       "      <th>0</th>\n",
       "      <td>19</td>\n",
       "      <td>11</td>\n",
       "      <td>1.727273</td>\n",
       "      <td>0.578947</td>\n",
       "      <td>0.064327</td>\n",
       "      <td>0</td>\n",
       "      <td>3</td>\n",
       "      <td>1.157895</td>\n",
       "      <td>1.0</td>\n",
       "      <td>0.0</td>\n",
       "      <td>...</td>\n",
       "      <td>1.871019</td>\n",
       "      <td>0.052632</td>\n",
       "      <td>0.157895</td>\n",
       "      <td>0.052632</td>\n",
       "      <td>0.052632</td>\n",
       "      <td>0.105263</td>\n",
       "      <td>0.397478</td>\n",
       "      <td>0.059110</td>\n",
       "      <td>other</td>\n",
       "      <td>dfs</td>\n",
       "    </tr>\n",
       "    <tr>\n",
       "      <th>1</th>\n",
       "      <td>34</td>\n",
       "      <td>130</td>\n",
       "      <td>0.261538</td>\n",
       "      <td>3.823529</td>\n",
       "      <td>0.231729</td>\n",
       "      <td>3</td>\n",
       "      <td>12</td>\n",
       "      <td>7.647059</td>\n",
       "      <td>7.0</td>\n",
       "      <td>6.0</td>\n",
       "      <td>...</td>\n",
       "      <td>3.051602</td>\n",
       "      <td>0.029412</td>\n",
       "      <td>0.117647</td>\n",
       "      <td>0.058824</td>\n",
       "      <td>0.058824</td>\n",
       "      <td>0.088235</td>\n",
       "      <td>0.324626</td>\n",
       "      <td>0.046827</td>\n",
       "      <td>best_first_search</td>\n",
       "      <td>best_first_search</td>\n",
       "    </tr>\n",
       "    <tr>\n",
       "      <th>2</th>\n",
       "      <td>68</td>\n",
       "      <td>364</td>\n",
       "      <td>0.186813</td>\n",
       "      <td>5.352941</td>\n",
       "      <td>0.159789</td>\n",
       "      <td>3</td>\n",
       "      <td>18</td>\n",
       "      <td>10.705882</td>\n",
       "      <td>11.0</td>\n",
       "      <td>9.0</td>\n",
       "      <td>...</td>\n",
       "      <td>3.374558</td>\n",
       "      <td>0.014706</td>\n",
       "      <td>0.058824</td>\n",
       "      <td>0.029412</td>\n",
       "      <td>0.029412</td>\n",
       "      <td>0.044118</td>\n",
       "      <td>0.301528</td>\n",
       "      <td>0.022069</td>\n",
       "      <td>best_first_search</td>\n",
       "      <td>best_first_search</td>\n",
       "    </tr>\n",
       "    <tr>\n",
       "      <th>3</th>\n",
       "      <td>58</td>\n",
       "      <td>122</td>\n",
       "      <td>0.475410</td>\n",
       "      <td>2.103448</td>\n",
       "      <td>0.073805</td>\n",
       "      <td>1</td>\n",
       "      <td>10</td>\n",
       "      <td>4.206897</td>\n",
       "      <td>4.0</td>\n",
       "      <td>3.0</td>\n",
       "      <td>...</td>\n",
       "      <td>2.907696</td>\n",
       "      <td>0.017241</td>\n",
       "      <td>0.051724</td>\n",
       "      <td>0.034483</td>\n",
       "      <td>0.017241</td>\n",
       "      <td>0.034483</td>\n",
       "      <td>0.319693</td>\n",
       "      <td>0.020953</td>\n",
       "      <td>best_first_search</td>\n",
       "      <td>astar</td>\n",
       "    </tr>\n",
       "    <tr>\n",
       "      <th>4</th>\n",
       "      <td>96</td>\n",
       "      <td>131</td>\n",
       "      <td>0.732824</td>\n",
       "      <td>1.364583</td>\n",
       "      <td>0.028728</td>\n",
       "      <td>0</td>\n",
       "      <td>9</td>\n",
       "      <td>2.729167</td>\n",
       "      <td>2.0</td>\n",
       "      <td>1.0</td>\n",
       "      <td>...</td>\n",
       "      <td>2.686679</td>\n",
       "      <td>0.010417</td>\n",
       "      <td>0.031250</td>\n",
       "      <td>0.020833</td>\n",
       "      <td>0.010417</td>\n",
       "      <td>0.020833</td>\n",
       "      <td>0.330712</td>\n",
       "      <td>0.011580</td>\n",
       "      <td>other</td>\n",
       "      <td>bidirectional_search</td>\n",
       "    </tr>\n",
       "  </tbody>\n",
       "</table>\n",
       "<p>5 rows × 22 columns</p>\n",
       "</div>"
      ],
      "text/plain": [
       "   nodes  edges  ratio_n_m  ratio_m_n   density  min_degree  max_degree  \\\n",
       "0     19     11   1.727273   0.578947  0.064327           0           3   \n",
       "1     34    130   0.261538   3.823529  0.231729           3          12   \n",
       "2     68    364   0.186813   5.352941  0.159789           3          18   \n",
       "3     58    122   0.475410   2.103448  0.073805           1          10   \n",
       "4     96    131   0.732824   1.364583  0.028728           0           9   \n",
       "\n",
       "   mean_degree  median_degree  q0.25_degree  ...  entropy_degree  \\\n",
       "0     1.157895            1.0           0.0  ...        1.871019   \n",
       "1     7.647059            7.0           6.0  ...        3.051602   \n",
       "2    10.705882           11.0           9.0  ...        3.374558   \n",
       "3     4.206897            4.0           3.0  ...        2.907696   \n",
       "4     2.729167            2.0           1.0  ...        2.686679   \n",
       "\n",
       "   normalized_min_clique_size  normalized_max_clique_size  \\\n",
       "0                    0.052632                    0.157895   \n",
       "1                    0.029412                    0.117647   \n",
       "2                    0.014706                    0.058824   \n",
       "3                    0.017241                    0.051724   \n",
       "4                    0.010417                    0.031250   \n",
       "\n",
       "   normalized_median_clique_size  normalized_q0.25_clique_size  \\\n",
       "0                       0.052632                      0.052632   \n",
       "1                       0.058824                      0.058824   \n",
       "2                       0.029412                      0.029412   \n",
       "3                       0.034483                      0.017241   \n",
       "4                       0.020833                      0.010417   \n",
       "\n",
       "   normalized_q0.75_clique_size  normalized_variation_coefficient_clique_size  \\\n",
       "0                      0.105263                                      0.397478   \n",
       "1                      0.088235                                      0.324626   \n",
       "2                      0.044118                                      0.301528   \n",
       "3                      0.034483                                      0.319693   \n",
       "4                      0.020833                                      0.330712   \n",
       "\n",
       "   normalized_entropy_clique_size        target_time          target_space  \n",
       "0                        0.059110              other                   dfs  \n",
       "1                        0.046827  best_first_search     best_first_search  \n",
       "2                        0.022069  best_first_search     best_first_search  \n",
       "3                        0.020953  best_first_search                 astar  \n",
       "4                        0.011580              other  bidirectional_search  \n",
       "\n",
       "[5 rows x 22 columns]"
      ]
     },
     "execution_count": 98,
     "metadata": {},
     "output_type": "execute_result"
    }
   ],
   "source": [
    "# collapse all other classes, other than best_first_search\n",
    "meta_metrics.loc[meta_metrics[\"target_time\"] != \"best_first_search\", \"target_time\"] = \"other\"\n",
    "meta_metrics.head()"
   ]
  },
  {
   "cell_type": "code",
   "execution_count": 99,
   "metadata": {},
   "outputs": [],
   "source": [
    "scaler=StandardScaler()\n",
    "X_scaled_train=scaler.fit_transform(meta_metrics.iloc[:, features_numeric])"
   ]
  },
  {
   "cell_type": "code",
   "execution_count": 100,
   "metadata": {},
   "outputs": [
    {
     "name": "stdout",
     "output_type": "stream",
     "text": [
      "(4500,)\n"
     ]
    }
   ],
   "source": [
    "Y_train = meta_metrics.iloc[:, gt].squeeze().to_numpy() #sqeeze for reducing to pd.Series because iloc gives dataframe\n",
    "print(Y_train.shape)"
   ]
  },
  {
   "cell_type": "code",
   "execution_count": 101,
   "metadata": {
    "tags": [
     "parameters"
    ]
   },
   "outputs": [
    {
     "name": "stdout",
     "output_type": "stream",
     "text": [
      "['other', 'best_first_search']\n",
      "{'other': [1.0, 0.0], 'best_first_search': [0.0, 1.0]}\n"
     ]
    }
   ],
   "source": [
    "labels_train1 = meta_metrics.iloc[:, gt].squeeze().unique().tolist()\n",
    "print(labels_train1)\n",
    "\n",
    "one_hot_encoder1 = encode_labels(labels_train1)\n",
    "print(one_hot_encoder1)"
   ]
  },
  {
   "cell_type": "code",
   "execution_count": 102,
   "metadata": {},
   "outputs": [],
   "source": [
    "from torch.utils.data import Dataset\n",
    "from torch import Tensor\n",
    "\n",
    "class MetaMetrics(Dataset):\n",
    "\n",
    "  def __init__(self, X_mat, Y_mat, one_hot_encoder: dict):\n",
    "    super().__init__()\n",
    "    self.onehot = one_hot_encoder\n",
    "    self.feat = X_mat\n",
    "    self.labels = Y_mat\n",
    "\n",
    "  def __getitem__(self, idx):\n",
    "    target=self.onehot[self.labels[idx]]\n",
    "    return Tensor(self.feat[idx,:]), Tensor(target) \n",
    "\n",
    "  def __len__(self):\n",
    "    return len(self.feat)\n",
    "  \n",
    "ds1 = MetaMetrics(X_scaled_train, Y_train, one_hot_encoder1)"
   ]
  },
  {
   "cell_type": "code",
   "execution_count": 103,
   "metadata": {},
   "outputs": [
    {
     "name": "stdout",
     "output_type": "stream",
     "text": [
      "[i] USING CUDA\n"
     ]
    }
   ],
   "source": [
    "def get_device():\n",
    "    if torch.cuda.is_available():\n",
    "        device = torch.device('cuda')\n",
    "        print(\"[i] USING CUDA\")\n",
    "    else:\n",
    "        device = torch.device('cpu') # don't have GPU \n",
    "        print(\"[i] USING CPU\")\n",
    "    return device\n",
    "\n",
    "device = get_device() #setting up the DL device"
   ]
  },
  {
   "cell_type": "code",
   "execution_count": 104,
   "metadata": {},
   "outputs": [],
   "source": [
    "num_epochs1 = 100\n",
    "batch_size1 = 100\n",
    "#mini_batch_size = 64"
   ]
  },
  {
   "cell_type": "code",
   "execution_count": 105,
   "metadata": {},
   "outputs": [
    {
     "name": "stdout",
     "output_type": "stream",
     "text": [
      "torch.Size([100, 20]) torch.Size([100, 2])\n"
     ]
    }
   ],
   "source": [
    "from torch.utils.data import DataLoader, WeightedRandomSampler\n",
    "\n",
    "class_sample_count=meta_metrics.groupby(\"target_time\").count().iloc[:,0].squeeze().to_numpy()\n",
    "weight = 1. / class_sample_count\n",
    "samples_weight = [weight[labels_train1.index(Y_train[i])] for i in range(Y_train.shape[0])]\n",
    "\n",
    "# Create a WeightedRandomSampler for the training set\n",
    "sampler = WeightedRandomSampler(\n",
    "    samples_weight, len(samples_weight), replacement=True)\n",
    "\n",
    "dl1 = DataLoader(ds1, batch_size=batch_size1, sampler=sampler)\n",
    "for x, y in iter(dl1):\n",
    "    print(x.shape, y.shape)\n",
    "    break"
   ]
  },
  {
   "cell_type": "code",
   "execution_count": 106,
   "metadata": {},
   "outputs": [],
   "source": [
    "from torch import nn, optim\n",
    "\n",
    "class Net_1(nn.Module):\n",
    "    def __init__(self, isize, osize) -> None:\n",
    "        super().__init__()\n",
    "        self.model = nn.Sequential(\n",
    "            nn.Linear(isize, 100),\n",
    "            nn.LeakyReLU(0.2),\n",
    "            nn.Linear(100,50),\n",
    "            nn.LeakyReLU(0.2),\n",
    "            nn.Linear(50, osize),\n",
    "            nn.Softmax(dim=1)\n",
    "        )\n",
    "        self.loss = nn.functional.cross_entropy\n",
    "        self.optimizer = optim.Adam(self.model.parameters(), lr=0.0001)\n",
    "        self.scheduler = None\n",
    "\n",
    "    def forward(self, x):\n",
    "        return self.model(x)\n",
    "\n",
    "model1 = Net_1(20,2)"
   ]
  },
  {
   "cell_type": "code",
   "execution_count": 107,
   "metadata": {},
   "outputs": [
    {
     "name": "stdout",
     "output_type": "stream",
     "text": [
      "Finished epoch 0\n"
     ]
    },
    {
     "name": "stdout",
     "output_type": "stream",
     "text": [
      "Finished epoch 10\n",
      "Finished epoch 20\n",
      "Finished epoch 30\n",
      "Finished epoch 40\n",
      "Finished epoch 50\n",
      "Finished epoch 60\n",
      "Finished epoch 70\n",
      "Finished epoch 80\n",
      "Finished epoch 90\n"
     ]
    }
   ],
   "source": [
    "from torch.utils.tensorboard import SummaryWriter\n",
    "import tensorboard\n",
    "\n",
    "def train(epochs, dl):\n",
    "        new_exp_name = check_exp_fld(\"./runs/tensorboard\")\n",
    "        writer=SummaryWriter(new_exp_name)\n",
    "\n",
    "        for e in range(epochs):\n",
    "            \n",
    "            running_loss=0.\n",
    "            for _,(x,y) in enumerate(dl):\n",
    "\n",
    "                model1.optimizer.zero_grad()\n",
    "\n",
    "                y_tilde = model1(x)\n",
    "                loss=model1.loss(y_tilde, y)\n",
    "                loss.backward()\n",
    "                model1.optimizer.step()\n",
    "\n",
    "                #stats --------------\n",
    "                running_loss+=loss.item()\n",
    "\n",
    "            writer.add_scalar(\"Loss/train\", running_loss, e)\n",
    "\n",
    "            \n",
    "\n",
    "            if e%10 == 0:\n",
    "                print(\"Finished epoch\", e)        \n",
    "        \n",
    "        writer.close()\n",
    "\n",
    "train(num_epochs1, dl1)"
   ]
  },
  {
   "cell_type": "code",
   "execution_count": 108,
   "metadata": {},
   "outputs": [],
   "source": [
    "# Check if the directory exists, and if not, create it\n",
    "save_dir = f'./models/{(model1.__class__.__name__).lower()}'\n",
    "os.makedirs(save_dir, exist_ok=True)\n",
    "# Save State Dict\n",
    "torch.save(model1.state_dict(\n",
    "), f'{save_dir}/{(model1.__class__.__name__).lower()}_{\"binary-class\"}_saved_model.pth')"
   ]
  },
  {
   "cell_type": "markdown",
   "metadata": {},
   "source": [
    "---\n",
    "# Second level"
   ]
  },
  {
   "cell_type": "code",
   "execution_count": 109,
   "metadata": {},
   "outputs": [],
   "source": [
    "meta_metrics = pd.read_pickle(\"./df_train_W_meta_metrics.pkl\")"
   ]
  },
  {
   "cell_type": "code",
   "execution_count": 110,
   "metadata": {},
   "outputs": [
    {
     "name": "stdout",
     "output_type": "stream",
     "text": [
      "4500\n",
      "4500\n"
     ]
    }
   ],
   "source": [
    "print(len(meta_metrics))\n",
    "meta_metrics.dropna(inplace=True)\n",
    "print(len(meta_metrics))"
   ]
  },
  {
   "cell_type": "code",
   "execution_count": 111,
   "metadata": {},
   "outputs": [],
   "source": [
    "#drop best_first_search\n",
    "meta_metrics=meta_metrics[meta_metrics[\"target_time\"]!=\"best_first_search\"]"
   ]
  },
  {
   "cell_type": "code",
   "execution_count": 112,
   "metadata": {},
   "outputs": [
    {
     "name": "stdout",
     "output_type": "stream",
     "text": [
      "['dfs', 'bidirectional_search', 'bfs', 'dijkstra', 'randomized_shortest_path', 'astar']\n"
     ]
    }
   ],
   "source": [
    "labels_train2 = meta_metrics.iloc[:, gt].squeeze().unique().tolist()\n",
    "print(labels_train2)"
   ]
  },
  {
   "cell_type": "code",
   "execution_count": 113,
   "metadata": {},
   "outputs": [
    {
     "name": "stdout",
     "output_type": "stream",
     "text": [
      "{'dfs': [1.0, 0.0, 0.0, 0.0, 0.0, 0.0], 'bidirectional_search': [0.0, 1.0, 0.0, 0.0, 0.0, 0.0], 'bfs': [0.0, 0.0, 1.0, 0.0, 0.0, 0.0], 'dijkstra': [0.0, 0.0, 0.0, 1.0, 0.0, 0.0], 'randomized_shortest_path': [0.0, 0.0, 0.0, 0.0, 1.0, 0.0], 'astar': [0.0, 0.0, 0.0, 0.0, 0.0, 1.0]}\n"
     ]
    }
   ],
   "source": [
    "one_hot_encoder2 = encode_labels(labels_train2)\n",
    "print(one_hot_encoder2)"
   ]
  },
  {
   "cell_type": "code",
   "execution_count": 114,
   "metadata": {},
   "outputs": [
    {
     "name": "stdout",
     "output_type": "stream",
     "text": [
      "(1441, 20)\n"
     ]
    }
   ],
   "source": [
    "X_scaled_train=scaler.transform(meta_metrics.iloc[:, features_numeric])\n",
    "print(X_scaled_train.shape)"
   ]
  },
  {
   "cell_type": "code",
   "execution_count": 115,
   "metadata": {},
   "outputs": [
    {
     "name": "stdout",
     "output_type": "stream",
     "text": [
      "(1441,)\n"
     ]
    }
   ],
   "source": [
    "Y_train = meta_metrics.iloc[:, gt].squeeze().to_numpy() #sqeeze for reducing to pd.Series because iloc gives dataframe\n",
    "print(Y_train.shape)"
   ]
  },
  {
   "cell_type": "code",
   "execution_count": 116,
   "metadata": {},
   "outputs": [
    {
     "data": {
      "text/plain": [
       "Net_2(\n",
       "  (model): Sequential(\n",
       "    (0): Linear(in_features=20, out_features=512, bias=True)\n",
       "    (1): Tanh()\n",
       "    (2): Linear(in_features=512, out_features=256, bias=True)\n",
       "    (3): Tanh()\n",
       "    (4): Linear(in_features=256, out_features=256, bias=True)\n",
       "    (5): Tanh()\n",
       "    (6): Linear(in_features=256, out_features=256, bias=True)\n",
       "    (7): Tanh()\n",
       "    (8): Linear(in_features=256, out_features=256, bias=True)\n",
       "    (9): Tanh()\n",
       "    (10): Linear(in_features=256, out_features=128, bias=True)\n",
       "    (11): Tanh()\n",
       "    (12): Linear(in_features=128, out_features=64, bias=True)\n",
       "    (13): Tanh()\n",
       "    (14): Linear(in_features=64, out_features=32, bias=True)\n",
       "    (15): Tanh()\n",
       "    (16): Linear(in_features=32, out_features=6, bias=True)\n",
       "    (17): Softmax(dim=1)\n",
       "  )\n",
       ")"
      ]
     },
     "execution_count": 116,
     "metadata": {},
     "output_type": "execute_result"
    }
   ],
   "source": [
    "from torch import nn, optim\n",
    "from torch.optim.lr_scheduler import CosineAnnealingWarmRestarts\n",
    "\n",
    "class Net_2(nn.Module):\n",
    "    def __init__(self, isize, osize) -> None:\n",
    "        super().__init__()\n",
    "        self.model = nn.Sequential(\n",
    "            nn.Linear(isize, 512),\n",
    "            nn.Tanh(),\n",
    "            nn.Linear(512, 256),\n",
    "            nn.Tanh(),\n",
    "            nn.Linear(256, 256),\n",
    "            nn.Tanh(),\n",
    "            nn.Linear(256, 256),\n",
    "\n",
    "            nn.Tanh(),\n",
    "            nn.Linear(256, 256),\n",
    "\n",
    "            nn.Tanh(),\n",
    "            nn.Linear(256, 128),\n",
    "\n",
    "            nn.Tanh(),\n",
    "            nn.Linear(128, 64),\n",
    "\n",
    "            nn.Tanh(),\n",
    "            nn.Linear(64, 32),\n",
    "            nn.Tanh(),\n",
    "            nn.Linear(32, osize),\n",
    "            nn.Softmax(dim=1)\n",
    "        )\n",
    "        self.loss = nn.functional.cross_entropy\n",
    "        self.optimizer = optim.Adam(self.model.parameters(), lr=0.0001)\n",
    "        self.scheduler = None\n",
    "        #CosineAnnealingWarmRestarts(self.optimizer, T_0=round((1/10)*b_size), T_mult=1, eta_min=0)\n",
    "\n",
    "    def forward(self, x):\n",
    "        return self.model(x)\n",
    "\n",
    "\n",
    "def init_weights(m):\n",
    "    if isinstance(m, nn.Linear):\n",
    "        torch.nn.init.kaiming_uniform_(m.weight)\n",
    "        m.bias.data.fill_(0.01)\n",
    "\n",
    "\n",
    "model2 = Net_2(20, 6)\n",
    "\n",
    "model2.apply(init_weights)"
   ]
  },
  {
   "cell_type": "code",
   "execution_count": 117,
   "metadata": {},
   "outputs": [],
   "source": [
    "ds2=MetaMetrics(X_scaled_train, Y_train,one_hot_encoder2)"
   ]
  },
  {
   "cell_type": "code",
   "execution_count": 118,
   "metadata": {},
   "outputs": [],
   "source": [
    "num_epochs2=168\n",
    "batch_size2=40"
   ]
  },
  {
   "cell_type": "code",
   "execution_count": 119,
   "metadata": {},
   "outputs": [
    {
     "name": "stdout",
     "output_type": "stream",
     "text": [
      "torch.Size([100, 20]) torch.Size([100, 2])\n"
     ]
    }
   ],
   "source": [
    "from torch.utils.data import DataLoader, WeightedRandomSampler\n",
    "\n",
    "class_sample_count=meta_metrics.groupby(\"target_time\").count().iloc[:,0].squeeze().to_numpy()\n",
    "weight = 1. / class_sample_count\n",
    "samples_weight = [weight[labels_train2.index(Y_train[i])] for i in range(Y_train.shape[0])]\n",
    "\n",
    "# Create a WeightedRandomSampler for the training set\n",
    "sampler = WeightedRandomSampler(\n",
    "    samples_weight, len(samples_weight), replacement=True)\n",
    "\n",
    "dl2 = DataLoader(ds2, batch_size=batch_size2, sampler=sampler)\n",
    "for x, y in iter(dl1):\n",
    "    print(x.shape, y.shape)\n",
    "    break"
   ]
  },
  {
   "cell_type": "code",
   "execution_count": 120,
   "metadata": {},
   "outputs": [
    {
     "name": "stdout",
     "output_type": "stream",
     "text": [
      "Finished epoch 0\n",
      "Finished epoch 10\n",
      "Finished epoch 20\n",
      "Finished epoch 30\n",
      "Finished epoch 40\n",
      "Finished epoch 50\n",
      "Finished epoch 60\n",
      "Finished epoch 70\n",
      "Finished epoch 80\n",
      "Finished epoch 90\n",
      "Finished epoch 100\n",
      "Finished epoch 110\n",
      "Finished epoch 120\n",
      "Finished epoch 130\n",
      "Finished epoch 140\n",
      "Finished epoch 150\n",
      "Finished epoch 160\n"
     ]
    }
   ],
   "source": [
    "from torch.utils.tensorboard import SummaryWriter\n",
    "import tensorboard\n",
    "\n",
    "def train2(epochs, dl):\n",
    "        new_exp_name = check_exp_fld(\"./runs/tensorboard\")\n",
    "        writer=SummaryWriter(new_exp_name)\n",
    "\n",
    "        for e in range(epochs):\n",
    "            \n",
    "            running_loss=0.\n",
    "            for _,(x,y) in enumerate(dl):\n",
    "\n",
    "                model2.optimizer.zero_grad()\n",
    "\n",
    "                y_tilde = model2(x)\n",
    "\n",
    "                loss=model2.loss(y_tilde, y)\n",
    "                loss.backward()\n",
    "                model2.optimizer.step()\n",
    "\n",
    "                #stats --------------\n",
    "                running_loss+=loss.item()\n",
    "\n",
    "            writer.add_scalar(\"Loss/train2\", running_loss, e)\n",
    "\n",
    "            \n",
    "\n",
    "            if e%10 == 0:\n",
    "                print(\"Finished epoch\", e)        \n",
    "        \n",
    "        writer.close()\n",
    "\n",
    "train2(num_epochs2, dl2)"
   ]
  },
  {
   "cell_type": "code",
   "execution_count": 121,
   "metadata": {},
   "outputs": [],
   "source": [
    "# Check if the directory exists, and if not, create it\n",
    "save_dir = f'./models/{(model2.__class__.__name__).lower()}'\n",
    "os.makedirs(save_dir, exist_ok=True)\n",
    "# Save State Dict\n",
    "torch.save(model2.state_dict(\n",
    "), f'{save_dir}/{(model2.__class__.__name__).lower()}_{\"6-classes-class\"}_saved_model.pth')"
   ]
  },
  {
   "cell_type": "markdown",
   "metadata": {},
   "source": [
    "---\n",
    "# Test\n",
    "## Test 1st level"
   ]
  },
  {
   "cell_type": "code",
   "execution_count": 122,
   "metadata": {},
   "outputs": [],
   "source": [
    "df_test = pd.read_pickle(\"./df_test_W_meta_metrics.pkl\")\n",
    "df_test.loc[df_test[\"target_time\"] != \"best_first_search\", \"target_time\"] = \"other\""
   ]
  },
  {
   "cell_type": "code",
   "execution_count": 123,
   "metadata": {},
   "outputs": [
    {
     "name": "stdout",
     "output_type": "stream",
     "text": [
      "(500, 20)\n"
     ]
    }
   ],
   "source": [
    "X_scaled_test=scaler.transform(df_test.iloc[:, features_numeric])\n",
    "print(X_scaled_test.shape)"
   ]
  },
  {
   "cell_type": "code",
   "execution_count": 124,
   "metadata": {},
   "outputs": [
    {
     "name": "stdout",
     "output_type": "stream",
     "text": [
      "(500,)\n"
     ]
    }
   ],
   "source": [
    "Y_test = df_test.iloc[:, gt].squeeze().to_numpy() #sqeeze for reducing to pd.Series because iloc gives dataframe\n",
    "print(Y_test.shape)"
   ]
  },
  {
   "cell_type": "code",
   "execution_count": 125,
   "metadata": {},
   "outputs": [],
   "source": [
    "ds_test=MetaMetrics(X_scaled_test,Y_test, one_hot_encoder1)\n",
    "dl_test = DataLoader(ds_test, batch_size=1)"
   ]
  },
  {
   "cell_type": "code",
   "execution_count": 126,
   "metadata": {},
   "outputs": [
    {
     "name": "stdout",
     "output_type": "stream",
     "text": [
      "F1-score: 0.8273493655160173\n"
     ]
    },
    {
     "data": {
      "image/png": "[encoded data removed]",
      "text/plain": [
       "<Figure size 640x480 with 2 Axes>"
      ]
     },
     "metadata": {},
     "output_type": "display_data"
    }
   ],
   "source": [
    "import torch\n",
    "from sklearn.metrics import confusion_matrix, ConfusionMatrixDisplay, f1_score\n",
    "\n",
    "model1=Net_1(20,2)\n",
    "model1.load_state_dict(torch.load(\"./models/net_1/net_1_binary-class_saved_model.pth\"))\n",
    "\n",
    "model1.eval()\n",
    "\n",
    "actual_labels = []\n",
    "predicted_labels = []\n",
    "with torch.no_grad():\n",
    "    for inputs, y in dl_test:\n",
    "        actual_lab=int(torch.argmax(y))\n",
    "        actual_labels.append(actual_lab)\n",
    "        outputs1 = model1(inputs)\n",
    "        pred_class = int(torch.argmax(outputs1))\n",
    "        predicted_labels.append(pred_class)\n",
    "\n",
    "\n",
    "conf_matrix = confusion_matrix(\n",
    "    actual_labels, predicted_labels, normalize='true')\n",
    "conf_disp = ConfusionMatrixDisplay(conf_matrix)\n",
    "conf_disp.plot()\n",
    "\n",
    "print(\"F1-score:\", f1_score(actual_labels, predicted_labels, average=\"weighted\"))"
   ]
  },
  {
   "cell_type": "markdown",
   "metadata": {},
   "source": [
    "---\n",
    "## Test 2nd level"
   ]
  },
  {
   "cell_type": "code",
   "execution_count": 127,
   "metadata": {},
   "outputs": [
    {
     "data": {
      "text/html": [
       "<div>\n",
       "<style scoped>\n",
       "    .dataframe tbody tr th:only-of-type {\n",
       "        vertical-align: middle;\n",
       "    }\n",
       "\n",
       "    .dataframe tbody tr th {\n",
       "        vertical-align: top;\n",
       "    }\n",
       "\n",
       "    .dataframe thead th {\n",
       "        text-align: right;\n",
       "    }\n",
       "</style>\n",
       "<table border=\"1\" class=\"dataframe\">\n",
       "  <thead>\n",
       "    <tr style=\"text-align: right;\">\n",
       "      <th></th>\n",
       "      <th>nodes</th>\n",
       "      <th>edges</th>\n",
       "      <th>ratio_n_m</th>\n",
       "      <th>ratio_m_n</th>\n",
       "      <th>density</th>\n",
       "      <th>min_degree</th>\n",
       "      <th>max_degree</th>\n",
       "      <th>mean_degree</th>\n",
       "      <th>median_degree</th>\n",
       "      <th>q0.25_degree</th>\n",
       "      <th>...</th>\n",
       "      <th>entropy_degree</th>\n",
       "      <th>normalized_min_clique_size</th>\n",
       "      <th>normalized_max_clique_size</th>\n",
       "      <th>normalized_median_clique_size</th>\n",
       "      <th>normalized_q0.25_clique_size</th>\n",
       "      <th>normalized_q0.75_clique_size</th>\n",
       "      <th>normalized_variation_coefficient_clique_size</th>\n",
       "      <th>normalized_entropy_clique_size</th>\n",
       "      <th>target_time</th>\n",
       "      <th>target_space</th>\n",
       "    </tr>\n",
       "  </thead>\n",
       "  <tbody>\n",
       "    <tr>\n",
       "      <th>2</th>\n",
       "      <td>30</td>\n",
       "      <td>83</td>\n",
       "      <td>0.361446</td>\n",
       "      <td>2.766667</td>\n",
       "      <td>0.190805</td>\n",
       "      <td>2</td>\n",
       "      <td>10</td>\n",
       "      <td>5.533333</td>\n",
       "      <td>5.5</td>\n",
       "      <td>4.00</td>\n",
       "      <td>...</td>\n",
       "      <td>2.806239</td>\n",
       "      <td>0.033333</td>\n",
       "      <td>0.100000</td>\n",
       "      <td>0.066667</td>\n",
       "      <td>0.066667</td>\n",
       "      <td>0.066667</td>\n",
       "      <td>0.322118</td>\n",
       "      <td>0.045542</td>\n",
       "      <td>bidirectional_search</td>\n",
       "      <td>best_first_search</td>\n",
       "    </tr>\n",
       "    <tr>\n",
       "      <th>4</th>\n",
       "      <td>105</td>\n",
       "      <td>141</td>\n",
       "      <td>0.744681</td>\n",
       "      <td>1.342857</td>\n",
       "      <td>0.025824</td>\n",
       "      <td>0</td>\n",
       "      <td>9</td>\n",
       "      <td>2.685714</td>\n",
       "      <td>2.0</td>\n",
       "      <td>1.00</td>\n",
       "      <td>...</td>\n",
       "      <td>2.702194</td>\n",
       "      <td>0.009524</td>\n",
       "      <td>0.028571</td>\n",
       "      <td>0.019048</td>\n",
       "      <td>0.009524</td>\n",
       "      <td>0.019048</td>\n",
       "      <td>0.330766</td>\n",
       "      <td>0.010532</td>\n",
       "      <td>bidirectional_search</td>\n",
       "      <td>bidirectional_search</td>\n",
       "    </tr>\n",
       "    <tr>\n",
       "      <th>10</th>\n",
       "      <td>158</td>\n",
       "      <td>272</td>\n",
       "      <td>0.580882</td>\n",
       "      <td>1.721519</td>\n",
       "      <td>0.021930</td>\n",
       "      <td>0</td>\n",
       "      <td>9</td>\n",
       "      <td>3.443038</td>\n",
       "      <td>3.0</td>\n",
       "      <td>2.00</td>\n",
       "      <td>...</td>\n",
       "      <td>2.768246</td>\n",
       "      <td>0.006329</td>\n",
       "      <td>0.018987</td>\n",
       "      <td>0.012658</td>\n",
       "      <td>0.006329</td>\n",
       "      <td>0.012658</td>\n",
       "      <td>0.302662</td>\n",
       "      <td>0.006427</td>\n",
       "      <td>bidirectional_search</td>\n",
       "      <td>bidirectional_search</td>\n",
       "    </tr>\n",
       "    <tr>\n",
       "      <th>14</th>\n",
       "      <td>31</td>\n",
       "      <td>81</td>\n",
       "      <td>0.382716</td>\n",
       "      <td>2.612903</td>\n",
       "      <td>0.174194</td>\n",
       "      <td>2</td>\n",
       "      <td>8</td>\n",
       "      <td>5.225806</td>\n",
       "      <td>5.0</td>\n",
       "      <td>3.50</td>\n",
       "      <td>...</td>\n",
       "      <td>2.671264</td>\n",
       "      <td>0.032258</td>\n",
       "      <td>0.096774</td>\n",
       "      <td>0.064516</td>\n",
       "      <td>0.064516</td>\n",
       "      <td>0.064516</td>\n",
       "      <td>0.320045</td>\n",
       "      <td>0.042368</td>\n",
       "      <td>bidirectional_search</td>\n",
       "      <td>best_first_search</td>\n",
       "    </tr>\n",
       "    <tr>\n",
       "      <th>15</th>\n",
       "      <td>24</td>\n",
       "      <td>29</td>\n",
       "      <td>0.827586</td>\n",
       "      <td>1.208333</td>\n",
       "      <td>0.105072</td>\n",
       "      <td>0</td>\n",
       "      <td>5</td>\n",
       "      <td>2.416667</td>\n",
       "      <td>2.5</td>\n",
       "      <td>1.75</td>\n",
       "      <td>...</td>\n",
       "      <td>2.182932</td>\n",
       "      <td>0.041667</td>\n",
       "      <td>0.125000</td>\n",
       "      <td>0.083333</td>\n",
       "      <td>0.041667</td>\n",
       "      <td>0.083333</td>\n",
       "      <td>0.352734</td>\n",
       "      <td>0.049284</td>\n",
       "      <td>bidirectional_search</td>\n",
       "      <td>best_first_search</td>\n",
       "    </tr>\n",
       "  </tbody>\n",
       "</table>\n",
       "<p>5 rows × 22 columns</p>\n",
       "</div>"
      ],
      "text/plain": [
       "    nodes  edges  ratio_n_m  ratio_m_n   density  min_degree  max_degree  \\\n",
       "2      30     83   0.361446   2.766667  0.190805           2          10   \n",
       "4     105    141   0.744681   1.342857  0.025824           0           9   \n",
       "10    158    272   0.580882   1.721519  0.021930           0           9   \n",
       "14     31     81   0.382716   2.612903  0.174194           2           8   \n",
       "15     24     29   0.827586   1.208333  0.105072           0           5   \n",
       "\n",
       "    mean_degree  median_degree  q0.25_degree  ...  entropy_degree  \\\n",
       "2      5.533333            5.5          4.00  ...        2.806239   \n",
       "4      2.685714            2.0          1.00  ...        2.702194   \n",
       "10     3.443038            3.0          2.00  ...        2.768246   \n",
       "14     5.225806            5.0          3.50  ...        2.671264   \n",
       "15     2.416667            2.5          1.75  ...        2.182932   \n",
       "\n",
       "    normalized_min_clique_size  normalized_max_clique_size  \\\n",
       "2                     0.033333                    0.100000   \n",
       "4                     0.009524                    0.028571   \n",
       "10                    0.006329                    0.018987   \n",
       "14                    0.032258                    0.096774   \n",
       "15                    0.041667                    0.125000   \n",
       "\n",
       "    normalized_median_clique_size  normalized_q0.25_clique_size  \\\n",
       "2                        0.066667                      0.066667   \n",
       "4                        0.019048                      0.009524   \n",
       "10                       0.012658                      0.006329   \n",
       "14                       0.064516                      0.064516   \n",
       "15                       0.083333                      0.041667   \n",
       "\n",
       "    normalized_q0.75_clique_size  \\\n",
       "2                       0.066667   \n",
       "4                       0.019048   \n",
       "10                      0.012658   \n",
       "14                      0.064516   \n",
       "15                      0.083333   \n",
       "\n",
       "    normalized_variation_coefficient_clique_size  \\\n",
       "2                                       0.322118   \n",
       "4                                       0.330766   \n",
       "10                                      0.302662   \n",
       "14                                      0.320045   \n",
       "15                                      0.352734   \n",
       "\n",
       "    normalized_entropy_clique_size           target_time          target_space  \n",
       "2                         0.045542  bidirectional_search     best_first_search  \n",
       "4                         0.010532  bidirectional_search  bidirectional_search  \n",
       "10                        0.006427  bidirectional_search  bidirectional_search  \n",
       "14                        0.042368  bidirectional_search     best_first_search  \n",
       "15                        0.049284  bidirectional_search     best_first_search  \n",
       "\n",
       "[5 rows x 22 columns]"
      ]
     },
     "execution_count": 127,
     "metadata": {},
     "output_type": "execute_result"
    }
   ],
   "source": [
    "df_test = pd.read_pickle(\"./df_test_W_meta_metrics.pkl\")\n",
    "df_test=df_test[df_test[\"target_time\"] != \"best_first_search\"]\n",
    "df_test.head()"
   ]
  },
  {
   "cell_type": "code",
   "execution_count": 128,
   "metadata": {},
   "outputs": [
    {
     "name": "stdout",
     "output_type": "stream",
     "text": [
      "(145, 20)\n"
     ]
    }
   ],
   "source": [
    "X_scaled_test=scaler.transform(df_test.iloc[:, features_numeric])\n",
    "print(X_scaled_test.shape)"
   ]
  },
  {
   "cell_type": "code",
   "execution_count": 129,
   "metadata": {},
   "outputs": [
    {
     "name": "stdout",
     "output_type": "stream",
     "text": [
      "(145,)\n"
     ]
    }
   ],
   "source": [
    "Y_test = df_test.iloc[:, gt].squeeze().to_numpy() #sqeeze for reducing to pd.Series because iloc gives dataframe\n",
    "print(Y_test.shape)"
   ]
  },
  {
   "cell_type": "code",
   "execution_count": 130,
   "metadata": {},
   "outputs": [],
   "source": [
    "ds_test=MetaMetrics(X_scaled_test,Y_test, one_hot_encoder2)\n",
    "dl_test = DataLoader(ds_test, batch_size=1)"
   ]
  },
  {
   "cell_type": "code",
   "execution_count": 131,
   "metadata": {},
   "outputs": [
    {
     "name": "stdout",
     "output_type": "stream",
     "text": [
      "F1-score: 0.32679551311703475\n"
     ]
    },
    {
     "data": {
      "image/png": "[encoded data removed]",
      "text/plain": [
       "<Figure size 640x480 with 2 Axes>"
      ]
     },
     "metadata": {},
     "output_type": "display_data"
    }
   ],
   "source": [
    "import torch\n",
    "from sklearn.metrics import confusion_matrix, ConfusionMatrixDisplay, f1_score\n",
    "\n",
    "model1=Net_2(20,6)\n",
    "model1.load_state_dict(torch.load(\"./models/net_2/net_2_6-classes-class_saved_model.pth\"))\n",
    "\n",
    "model2.eval()\n",
    "\n",
    "actual_labels = []\n",
    "predicted_labels = []\n",
    "with torch.no_grad():\n",
    "    for inputs, y in dl_test:\n",
    "        actual_lab=int(torch.argmax(y))\n",
    "        actual_labels.append(actual_lab)\n",
    "        outputs2 = model2(inputs)\n",
    "        pred_class = int(torch.argmax(outputs2))\n",
    "        predicted_labels.append(pred_class)\n",
    "\n",
    "conf_matrix = confusion_matrix(\n",
    "    actual_labels, predicted_labels, normalize='true')\n",
    "conf_disp = ConfusionMatrixDisplay(conf_matrix)\n",
    "conf_disp.plot()\n",
    "\n",
    "print(\"F1-score:\", f1_score(actual_labels, predicted_labels, average=\"weighted\"))"
   ]
  }
 ],
 "metadata": {
  "kernelspec": {
   "display_name": "std",
   "language": "python",
   "name": "python3"
  },
  "language_info": {
   "codemirror_mode": {
    "name": "ipython",
    "version": 3
   },
   "file_extension": ".py",
   "mimetype": "text/x-python",
   "name": "python",
   "nbconvert_exporter": "python",
   "pygments_lexer": "ipython3",
   "version": "3.11.5"
  }
 },
 "nbformat": 4,
 "nbformat_minor": 2
}
